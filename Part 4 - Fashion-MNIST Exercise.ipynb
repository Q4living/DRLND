{
 "cells": [
  {
   "cell_type": "markdown",
   "metadata": {},
   "source": [
    "# Classifying Fashion-MNIST\n",
    "\n",
    "Now it's your turn to build and train a neural network. You'll be using the [Fashion-MNIST dataset](https://github.com/zalandoresearch/fashion-mnist), a drop-in replacement for the MNIST dataset. MNIST is actually quite trivial with neural networks where you can easily achieve better than 97% accuracy. Fashion-MNIST is a set of 28x28 greyscale images of clothes. It's more complex than MNIST, so it's a better representation of the actual performance of your network, and a better representation of datasets you'll use in the real world.\n",
    "\n",
    "<img src='assets/fashion-mnist-sprite.png' width=500px>\n",
    "\n",
    "In this notebook, you'll build your own neural network. For the most part, you could just copy and paste the code from Part 3, but you wouldn't be learning. It's important for you to write the code yourself and get it to work. Feel free to consult the previous notebook though as you work through this.\n",
    "\n",
    "First off, let's load the dataset through torchvision."
   ]
  },
  {
   "cell_type": "code",
   "execution_count": 1,
   "metadata": {},
   "outputs": [],
   "source": [
    "import torch\n",
    "from torchvision import datasets, transforms\n",
    "import helper\n",
    "\n",
    "# Define a transform to normalize the data\n",
    "transform = transforms.Compose([transforms.ToTensor(),\n",
    "                                transforms.Normalize((0.5, 0.5, 0.5), (0.5, 0.5, 0.5))])\n",
    "# Download and load the training data\n",
    "trainset = datasets.FashionMNIST('F_MNIST_data/', download=True, train=True, transform=transform)\n",
    "trainloader = torch.utils.data.DataLoader(trainset, batch_size=64, shuffle=True)\n",
    "\n",
    "# Download and load the test data\n",
    "testset = datasets.FashionMNIST('F_MNIST_data/', download=True, train=False, transform=transform)\n",
    "testloader = torch.utils.data.DataLoader(testset, batch_size=64, shuffle=True)"
   ]
  },
  {
   "cell_type": "markdown",
   "metadata": {},
   "source": [
    "Here we can see one of the images."
   ]
  },
  {
   "cell_type": "code",
   "execution_count": 2,
   "metadata": {},
   "outputs": [
    {
     "data": {
      "image/png": "[encoded data removed]",
      "text/plain": [
       "<matplotlib.figure.Figure at 0x7fca2affb4e0>"
      ]
     },
     "metadata": {
      "needs_background": "light"
     },
     "output_type": "display_data"
    }
   ],
   "source": [
    "image, label = next(iter(trainloader))\n",
    "helper.imshow(image[0,:]);"
   ]
  },
  {
   "cell_type": "markdown",
   "metadata": {},
   "source": [
    "With the data loaded, it's time to import the necessary packages."
   ]
  },
  {
   "cell_type": "code",
   "execution_count": 3,
   "metadata": {},
   "outputs": [],
   "source": [
    "%matplotlib inline\n",
    "%config InlineBackend.figure_format = 'retina'\n",
    "\n",
    "import matplotlib.pyplot as plt\n",
    "import numpy as np\n",
    "import time\n",
    "\n",
    "import torch\n",
    "from torch import nn\n",
    "from torch import optim\n",
    "import torch.nn.functional as F\n",
    "from torchvision import datasets, transforms\n",
    "\n",
    "import helper"
   ]
  },
  {
   "cell_type": "markdown",
   "metadata": {},
   "source": [
    "## Building the network\n",
    "\n",
    "Here you should define your network. As with MNIST, each image is 28x28 which is a total of 784 pixels, and there are 10 classes. You should include at least one hidden layer. We suggest you use ReLU activations for the layers and to return the logits from the forward pass. It's up to you how many layers you add and the size of those layers."
   ]
  },
  {
   "cell_type": "code",
   "execution_count": 25,
   "metadata": {},
   "outputs": [],
   "source": [
    "# TODO: Define your network architecture here\n",
    "from collections import OrderedDict\n",
    "\n",
    "# Hyperparameters\n",
    "input_size = 784\n",
    "hidden_sizes = [256, 128, 64]\n",
    "output_size = 10\n",
    "\n",
    "model = nn.Sequential(OrderedDict([\n",
    "    ('fc1',nn.Linear(input_size,hidden_sizes[0])),\n",
    "    ('relu1',nn.ReLU()),\n",
    "    ('fc2',nn.Linear(hidden_sizes[0],hidden_sizes[1])),\n",
    "    ('relu2',nn.ReLU()),\n",
    "    ('fc3',nn.Linear(hidden_sizes[1],hidden_sizes[2])),\n",
    "    ('relu3',nn.ReLU()),\n",
    "    ('logits',nn.Linear(hidden_sizes[2],output_size))\n",
    "]))"
   ]
  },
  {
   "cell_type": "markdown",
   "metadata": {},
   "source": [
    "# Train the network\n",
    "\n",
    "Now you should create your network and train it. First you'll want to define [the criterion](http://pytorch.org/docs/master/nn.html#loss-functions) ( something like `nn.CrossEntropyLoss`) and [the optimizer](http://pytorch.org/docs/master/optim.html) (typically `optim.SGD` or `optim.Adam`).\n",
    "\n",
    "Then write the training code. Remember the training pass is a fairly straightforward process:\n",
    "\n",
    "* Make a forward pass through the network to get the logits \n",
    "* Use the logits to calculate the loss\n",
    "* Perform a backward pass through the network with `loss.backward()` to calculate the gradients\n",
    "* Take a step with the optimizer to update the weights\n",
    "\n",
    "By adjusting the hyperparameters (hidden units, learning rate, etc), you should be able to get the training loss below 0.4."
   ]
  },
  {
   "cell_type": "code",
   "execution_count": 26,
   "metadata": {},
   "outputs": [],
   "source": [
    "# TODO: Create the network, define the criterion and optimizer\n",
    "criterion = nn.CrossEntropyLoss()\n",
    "optimizer = optim.Adam(params=model.parameters(),lr=0.01)\n"
   ]
  },
  {
   "cell_type": "code",
   "execution_count": 27,
   "metadata": {},
   "outputs": [
    {
     "name": "stdout",
     "output_type": "stream",
     "text": [
      "Epoch: 1 / 5..  Loss: 1.1476\n",
      "Epoch: 1 / 5..  Loss: 0.7318\n",
      "Epoch: 1 / 5..  Loss: 0.6582\n",
      "Epoch: 1 / 5..  Loss: 0.6352\n",
      "Epoch: 1 / 5..  Loss: 0.5995\n",
      "Epoch: 1 / 5..  Loss: 0.5963\n",
      "Epoch: 1 / 5..  Loss: 0.5215\n",
      "Epoch: 1 / 5..  Loss: 0.5821\n",
      "Epoch: 1 / 5..  Loss: 0.5472\n",
      "Epoch: 1 / 5..  Loss: 0.5805\n",
      "Epoch: 1 / 5..  Loss: 0.5493\n",
      "Epoch: 1 / 5..  Loss: 0.5306\n",
      "Epoch: 1 / 5..  Loss: 0.5612\n",
      "Epoch: 1 / 5..  Loss: 0.5877\n",
      "Epoch: 1 / 5..  Loss: 0.5333\n",
      "Epoch: 1 / 5..  Loss: 0.5135\n",
      "Epoch: 1 / 5..  Loss: 0.5244\n",
      "Epoch: 1 / 5..  Loss: 0.5102\n",
      "Epoch: 1 / 5..  Loss: 0.5029\n",
      "Epoch: 1 / 5..  Loss: 0.4615\n",
      "Epoch: 1 / 5..  Loss: 0.5381\n",
      "Epoch: 1 / 5..  Loss: 0.4806\n",
      "Epoch: 1 / 5..  Loss: 0.4706\n",
      "Epoch: 2 / 5..  Loss: 0.2615\n",
      "Epoch: 2 / 5..  Loss: 0.4751\n",
      "Epoch: 2 / 5..  Loss: 0.4825\n",
      "Epoch: 2 / 5..  Loss: 0.4631\n",
      "Epoch: 2 / 5..  Loss: 0.4733\n",
      "Epoch: 2 / 5..  Loss: 0.4515\n",
      "Epoch: 2 / 5..  Loss: 0.4520\n",
      "Epoch: 2 / 5..  Loss: 0.4718\n",
      "Epoch: 2 / 5..  Loss: 0.4283\n",
      "Epoch: 2 / 5..  Loss: 0.5138\n",
      "Epoch: 2 / 5..  Loss: 0.4734\n",
      "Epoch: 2 / 5..  Loss: 0.5012\n",
      "Epoch: 2 / 5..  Loss: 0.4436\n",
      "Epoch: 2 / 5..  Loss: 0.4694\n",
      "Epoch: 2 / 5..  Loss: 0.4161\n",
      "Epoch: 2 / 5..  Loss: 0.4471\n",
      "Epoch: 2 / 5..  Loss: 0.4256\n",
      "Epoch: 2 / 5..  Loss: 0.4323\n",
      "Epoch: 2 / 5..  Loss: 0.4441\n",
      "Epoch: 2 / 5..  Loss: 0.4425\n",
      "Epoch: 2 / 5..  Loss: 0.4729\n",
      "Epoch: 2 / 5..  Loss: 0.4346\n",
      "Epoch: 2 / 5..  Loss: 0.4456\n",
      "Epoch: 3 / 5..  Loss: 0.0442\n",
      "Epoch: 3 / 5..  Loss: 0.4152\n",
      "Epoch: 3 / 5..  Loss: 0.4169\n",
      "Epoch: 3 / 5..  Loss: 0.4297\n",
      "Epoch: 3 / 5..  Loss: 0.4761\n",
      "Epoch: 3 / 5..  Loss: 0.4091\n",
      "Epoch: 3 / 5..  Loss: 0.4646\n",
      "Epoch: 3 / 5..  Loss: 0.4119\n",
      "Epoch: 3 / 5..  Loss: 0.3948\n",
      "Epoch: 3 / 5..  Loss: 0.4255\n",
      "Epoch: 3 / 5..  Loss: 0.4664\n",
      "Epoch: 3 / 5..  Loss: 0.4165\n",
      "Epoch: 3 / 5..  Loss: 0.4427\n",
      "Epoch: 3 / 5..  Loss: 0.4263\n",
      "Epoch: 3 / 5..  Loss: 0.4467\n",
      "Epoch: 3 / 5..  Loss: 0.4254\n",
      "Epoch: 3 / 5..  Loss: 0.4351\n",
      "Epoch: 3 / 5..  Loss: 0.3930\n",
      "Epoch: 3 / 5..  Loss: 0.4004\n",
      "Epoch: 3 / 5..  Loss: 0.4400\n",
      "Epoch: 3 / 5..  Loss: 0.4488\n",
      "Epoch: 3 / 5..  Loss: 0.4051\n",
      "Epoch: 3 / 5..  Loss: 0.4488\n",
      "Epoch: 3 / 5..  Loss: 0.4371\n",
      "Epoch: 4 / 5..  Loss: 0.2493\n",
      "Epoch: 4 / 5..  Loss: 0.4544\n",
      "Epoch: 4 / 5..  Loss: 0.4215\n",
      "Epoch: 4 / 5..  Loss: 0.4153\n",
      "Epoch: 4 / 5..  Loss: 0.4428\n",
      "Epoch: 4 / 5..  Loss: 0.4606\n",
      "Epoch: 4 / 5..  Loss: 0.3673\n",
      "Epoch: 4 / 5..  Loss: 0.4566\n",
      "Epoch: 4 / 5..  Loss: 0.3992\n",
      "Epoch: 4 / 5..  Loss: 0.4107\n",
      "Epoch: 4 / 5..  Loss: 0.4873\n",
      "Epoch: 4 / 5..  Loss: 0.5266\n",
      "Epoch: 4 / 5..  Loss: 0.4918\n",
      "Epoch: 4 / 5..  Loss: 0.4618\n",
      "Epoch: 4 / 5..  Loss: 0.4554\n",
      "Epoch: 4 / 5..  Loss: 0.4488\n",
      "Epoch: 4 / 5..  Loss: 0.3769\n",
      "Epoch: 4 / 5..  Loss: 0.4554\n",
      "Epoch: 4 / 5..  Loss: 0.4265\n",
      "Epoch: 4 / 5..  Loss: 0.4188\n",
      "Epoch: 4 / 5..  Loss: 0.3866\n",
      "Epoch: 4 / 5..  Loss: 0.4029\n",
      "Epoch: 4 / 5..  Loss: 0.4191\n",
      "Epoch: 5 / 5..  Loss: 0.0697\n",
      "Epoch: 5 / 5..  Loss: 0.4382\n",
      "Epoch: 5 / 5..  Loss: 0.3720\n",
      "Epoch: 5 / 5..  Loss: 0.4173\n",
      "Epoch: 5 / 5..  Loss: 0.4458\n",
      "Epoch: 5 / 5..  Loss: 0.4314\n",
      "Epoch: 5 / 5..  Loss: 0.4565\n",
      "Epoch: 5 / 5..  Loss: 0.4080\n",
      "Epoch: 5 / 5..  Loss: 0.3848\n",
      "Epoch: 5 / 5..  Loss: 0.4544\n",
      "Epoch: 5 / 5..  Loss: 0.3798\n",
      "Epoch: 5 / 5..  Loss: 0.3823\n",
      "Epoch: 5 / 5..  Loss: 0.3927\n",
      "Epoch: 5 / 5..  Loss: 0.3932\n",
      "Epoch: 5 / 5..  Loss: 0.3858\n",
      "Epoch: 5 / 5..  Loss: 0.3800\n",
      "Epoch: 5 / 5..  Loss: 0.3658\n",
      "Epoch: 5 / 5..  Loss: 0.3619\n",
      "Epoch: 5 / 5..  Loss: 0.4352\n",
      "Epoch: 5 / 5..  Loss: 0.3807\n",
      "Epoch: 5 / 5..  Loss: 0.3966\n",
      "Epoch: 5 / 5..  Loss: 0.3712\n",
      "Epoch: 5 / 5..  Loss: 0.3619\n",
      "Epoch: 5 / 5..  Loss: 0.3913\n"
     ]
    }
   ],
   "source": [
    "# TODO: Train the network here\n",
    "epochs = 5\n",
    "print_steps = 40\n",
    "steps = 0\n",
    "for e in range(epochs):\n",
    "    running_loss = 0\n",
    "    for images, labels in iter(trainloader):\n",
    "        steps += 1\n",
    "        \n",
    "        images.resize_(images.size()[0], 784)\n",
    "        optimizer.zero_grad()\n",
    "        \n",
    "        output = model.forward(images)\n",
    "        loss = criterion(output, labels)\n",
    "        loss.backward()\n",
    "        optimizer.step()\n",
    "        \n",
    "        running_loss += loss.item()\n",
    "        \n",
    "        if steps % print_steps == 0:\n",
    "            print(\"Epoch: {} / {}.. \".format(e+1, epochs), \n",
    "                  \"Loss: {:.4f}\".format(running_loss / print_steps))\n",
    "            running_loss = 0"
   ]
  },
  {
   "cell_type": "code",
   "execution_count": 21,
   "metadata": {},
   "outputs": [
    {
     "data": {
      "image/png": "[encoded data removed]",
      "text/plain": [
       "<matplotlib.figure.Figure at 0x7fc9e53665f8>"
      ]
     },
     "metadata": {
      "image/png": {
       "height": 204,
       "width": 423
      },
      "needs_background": "light"
     },
     "output_type": "display_data"
    }
   ],
   "source": [
    "# Test out your network!\n",
    "\n",
    "dataiter = iter(testloader)\n",
    "images, labels = dataiter.next()\n",
    "img = images[0]\n",
    "# Convert 2D image to 1D vector\n",
    "img = img.resize_(1, 784)\n",
    "\n",
    "# TODO: Calculate the class probabilities (softmax) for img\n",
    "ps = F.softmax(model.forward(img), dim=1)\n",
    "\n",
    "# Plot the image and probabilities\n",
    "helper.view_classify(img.resize_(1, 28, 28), ps, version='Fashion')"
   ]
  },
  {
   "cell_type": "markdown",
   "metadata": {},
   "source": [
    "Now that your network is trained, you'll want to save it to disk so you can load it later instead of training it again. Obviously, it's impractical to train a network every time you need one. In practice, you'll train it once, save the model, then reload it for further training or making predictions. In the next part, I'll show you how to save and load trained models."
   ]
  }
 ],
 "metadata": {
  "kernelspec": {
   "display_name": "Python 3",
   "language": "python",
   "name": "python3"
  },
  "language_info": {
   "codemirror_mode": {
    "name": "ipython",
    "version": 3
   },
   "file_extension": ".py",
   "mimetype": "text/x-python",
   "name": "python",
   "nbconvert_exporter": "python",
   "pygments_lexer": "ipython3",
   "version": "3.6.3"
  }
 },
 "nbformat": 4,
 "nbformat_minor": 2
}
